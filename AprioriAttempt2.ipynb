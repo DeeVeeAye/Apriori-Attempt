{
  "nbformat": 4,
  "nbformat_minor": 0,
  "metadata": {
    "colab": {
      "name": "AprioriAttempt2.ipynb",
      "provenance": [],
      "collapsed_sections": [],
      "authorship_tag": "ABX9TyMvdDHvBAarRz9ibmRAckZX",
      "include_colab_link": true
    },
    "kernelspec": {
      "name": "python3",
      "display_name": "Python 3"
    },
    "language_info": {
      "name": "python"
    }
  },
  "cells": [
    {
      "cell_type": "markdown",
      "metadata": {
        "id": "view-in-github",
        "colab_type": "text"
      },
      "source": [
        "<a href=\"https://colab.research.google.com/github/DeeVeeAye/Apriori-Attempt/blob/main/AprioriAttempt2.ipynb\" target=\"_parent\"><img src=\"https://colab.research.google.com/assets/colab-badge.svg\" alt=\"Open In Colab\"/></a>"
      ]
    },
    {
      "cell_type": "markdown",
      "metadata": {
        "id": "0oexXrTCFpN1"
      },
      "source": [
        "Apriori Attempt 2"
      ]
    },
    {
      "cell_type": "code",
      "metadata": {
        "colab": {
          "base_uri": "https://localhost:8080/"
        },
        "id": "DgbeooOWNgTC",
        "outputId": "fa1f17cc-4fca-4331-f81d-fab1e8e639f0"
      },
      "source": [
        "!pip install apyori"
      ],
      "execution_count": 14,
      "outputs": [
        {
          "output_type": "stream",
          "name": "stdout",
          "text": [
            "Requirement already satisfied: apyori in /usr/local/lib/python3.7/dist-packages (1.1.2)\n"
          ]
        }
      ]
    },
    {
      "cell_type": "markdown",
      "metadata": {
        "id": "XCcfWrq8F1Xo"
      },
      "source": [
        "Importing all Required Libraries"
      ]
    },
    {
      "cell_type": "code",
      "metadata": {
        "id": "U3wwrDpsOgZl"
      },
      "source": [
        "import numpy as np\n",
        "import matplotlib.pyplot as plt\n",
        "import pandas as pd\n",
        "from mlxtend.frequent_patterns import apriori, association_rules"
      ],
      "execution_count": 15,
      "outputs": []
    },
    {
      "cell_type": "markdown",
      "metadata": {
        "id": "X8yZ-0qBF_oH"
      },
      "source": [
        "Importing Dataset"
      ]
    },
    {
      "cell_type": "code",
      "metadata": {
        "id": "p2ElbZnzOk5v"
      },
      "source": [
        "dataset = pd.read_csv('Salesstore_Edited.csv')\n",
        "dataset.drop(dataset.columns[[0]], axis = 1, inplace = True)"
      ],
      "execution_count": 16,
      "outputs": []
    },
    {
      "cell_type": "markdown",
      "metadata": {
        "id": "EVBvJ49zGOzB"
      },
      "source": [
        "Cleaning Dataset"
      ]
    },
    {
      "cell_type": "code",
      "metadata": {
        "colab": {
          "base_uri": "https://localhost:8080/"
        },
        "id": "xJXFGu-MGFzP",
        "outputId": "e382429c-e382-4cd1-8aa0-d258bb785496"
      },
      "source": [
        "sd_orderquantity = dataset['Order_Quantity'].std()\n",
        "sd_Sales = dataset['Sales'].std()\n",
        "sd_Profit = dataset['Profit'].std()\n",
        "\n",
        "avg_orderquantity = dataset['Order_Quantity'].mean()\n",
        "avg_Sales = dataset['Sales'].mean()\n",
        "avg_Profit = dataset['Profit'].mean()\n",
        "\n",
        "for i in range(0, 730):\n",
        "  if((dataset.values[i,1]) <= (avg_orderquantity - sd_orderquantity)):   \n",
        "      dataset.at[i,'Order_Quantity'] = 0\n",
        "  if((dataset.values[i,1]) > (avg_orderquantity - sd_orderquantity) and (dataset.values[i,1]) <= avg_orderquantity):   \n",
        "      dataset.at[i,'Order_Quantity'] = 1\n",
        "  if((dataset.values[i,1]) <= (avg_orderquantity + sd_orderquantity) and (dataset.values[i,1]) > avg_orderquantity):   \n",
        "      dataset.at[i,'Order_Quantity'] = 2\n",
        "  if((dataset.values[i,1]) >= (avg_orderquantity + sd_orderquantity)):   \n",
        "      dataset.at[i,'Order_Quantity'] = 3\n",
        "\n",
        "for i in range(0, 730):\n",
        "  if((dataset.values[i,2]) <= (avg_Sales - sd_Sales)):   \n",
        "      dataset.at[i,'Sales'] = 0\n",
        "  if((dataset.values[i,2]) > (avg_Sales - sd_Sales) and (dataset.values[i,2]) <= avg_Sales):   \n",
        "      dataset.at[i,'Sales'] = 1\n",
        "  if((dataset.values[i,2]) <= (avg_Sales + sd_Sales) and (dataset.values[i,2]) > avg_Sales):   \n",
        "      dataset.at[i,'Sales'] = 2\n",
        "  if((dataset.values[i,2]) > (avg_Sales + sd_Sales)):   \n",
        "      dataset.at[i,'Sales'] = 3\n",
        "\n",
        "for i in range(0, 730):\n",
        "  if((dataset.values[i,4]) <= 0):   \n",
        "      dataset.at[i,'Profit'] = 0\n",
        "  if((dataset.values[i,4]) <= avg_Profit and (dataset.values[i,4]) > 0):   \n",
        "      dataset.at[i,'Profit'] = 1\n",
        "  if((dataset.values[i,4]) <= (avg_Profit + sd_Profit) and (dataset.values[i,4]) > avg_Profit):   \n",
        "      dataset.at[i,'Profit'] = 2\n",
        "  if((dataset.values[i,4]) > (avg_Profit + sd_Profit)):   \n",
        "      dataset.at[i,'Profit'] = 3\n",
        "  \n",
        "\n",
        "dataset.dtypes"
      ],
      "execution_count": 17,
      "outputs": [
        {
          "output_type": "execute_result",
          "data": {
            "text/plain": [
              "Order_Priority           object\n",
              "Order_Quantity            int64\n",
              "Sales                   float64\n",
              "Ship_Mode                object\n",
              "Profit                  float64\n",
              "Region                   object\n",
              "Customer_Segment         object\n",
              "Product_Category         object\n",
              "Product_Sub-Category     object\n",
              "Product_Container        object\n",
              "dtype: object"
            ]
          },
          "metadata": {},
          "execution_count": 17
        }
      ]
    },
    {
      "cell_type": "markdown",
      "metadata": {
        "id": "u-pgLC0sGVIg"
      },
      "source": [
        "Segregating Numeric Values"
      ]
    },
    {
      "cell_type": "code",
      "metadata": {
        "id": "SHN01Bab0SjL"
      },
      "source": [
        "for i in range(0, 730):\n",
        "  if((dataset.values[i,1]) == 0.0):   \n",
        "      dataset[\"Order_Quantity\"]= dataset[\"Order_Quantity\"].replace(0.0, \"Low Order_Quantity\")\n",
        "  if((dataset.values[i,1]) == 1.0):   \n",
        "      dataset[\"Order_Quantity\"]= dataset[\"Order_Quantity\"].replace(1.0, \"Medium Order_Quantity\")\n",
        "  if((dataset.values[i,1]) == 2.0):\n",
        "      dataset[\"Order_Quantity\"]= dataset[\"Order_Quantity\"].replace(2.0, \"High Order_Quantity\")\n",
        "  if((dataset.values[i,1]) == 3.0):   \n",
        "      dataset[\"Order_Quantity\"]= dataset[\"Order_Quantity\"].replace(3.0, \"Very High Order_Quantity\")\n",
        "\n",
        "for i in range(0, 730):\n",
        "  if((dataset.values[i,2]) == 0.0):   \n",
        "      dataset[\"Sales\"]= dataset[\"Sales\"].replace(0.0, \"Low Sales\")\n",
        "  if((dataset.values[i,2]) == 1.0):   \n",
        "      dataset[\"Sales\"]= dataset[\"Sales\"].replace(1.0, \"Medium Sales\")\n",
        "  if((dataset.values[i,2]) == 2.0):\n",
        "      dataset[\"Sales\"]= dataset[\"Sales\"].replace(2.0, \"High Sales\")\n",
        "  if((dataset.values[i,2]) == 3.0):   \n",
        "      dataset[\"Sales\"]= dataset[\"Sales\"].replace(3.0, \"Very High Sales\")\n",
        "\n",
        "for i in range(0, 730):\n",
        "  if((dataset.values[i,4]) == 0.0):   \n",
        "      dataset[\"Profit\"]= dataset[\"Profit\"].replace(0.0, \"Loss\")\n",
        "  if((dataset.values[i,4]) == 1.0):   \n",
        "      dataset[\"Profit\"]= dataset[\"Profit\"].replace(1.0, \"Low Profit\")\n",
        "  if((dataset.values[i,4]) == 2.0):\n",
        "      dataset[\"Profit\"]= dataset[\"Profit\"].replace(2.0, \"Medium Profit\")\n",
        "  if((dataset.values[i,4]) == 3.0):   \n",
        "      dataset[\"Profit\"]= dataset[\"Profit\"].replace(3.0, \"Very High Profit\")"
      ],
      "execution_count": 18,
      "outputs": []
    },
    {
      "cell_type": "markdown",
      "metadata": {
        "id": "Z8D1DAucGZ78"
      },
      "source": [
        "Data Preprocessing"
      ]
    },
    {
      "cell_type": "code",
      "metadata": {
        "id": "JF6YiLfxnhN7"
      },
      "source": [
        "  transaction = []\n",
        "  for i in range(0, 730):  \n",
        "    transaction.append([str(dataset.values[i,j]) for j in range(0, 10)])"
      ],
      "execution_count": 19,
      "outputs": []
    },
    {
      "cell_type": "markdown",
      "metadata": {
        "id": "21Humcj9Go7D"
      },
      "source": [
        "Training Apriori Model on the Dataset"
      ]
    },
    {
      "cell_type": "code",
      "metadata": {
        "id": "UQcdHInn2Wmv"
      },
      "source": [
        "from apyori import apriori\n",
        "rules = apriori(transactions = transaction, min_support = 0.5, min_confidence = 0.5, min_lift = 1, min_length = 2, max_length = 2)"
      ],
      "execution_count": 20,
      "outputs": []
    },
    {
      "cell_type": "markdown",
      "metadata": {
        "id": "MXx14uCoGtqx"
      },
      "source": [
        "Displaying the Results"
      ]
    },
    {
      "cell_type": "code",
      "metadata": {
        "colab": {
          "base_uri": "https://localhost:8080/"
        },
        "id": "p2MIZkT15vef",
        "outputId": "5395f55d-52d3-4d3d-b7d5-0a679cf0a522"
      },
      "source": [
        "results = list(rules)\n",
        "results"
      ],
      "execution_count": 21,
      "outputs": [
        {
          "output_type": "execute_result",
          "data": {
            "text/plain": [
              "[RelationRecord(items=frozenset({'Corporate'}), support=0.7095890410958904, ordered_statistics=[OrderedStatistic(items_base=frozenset(), items_add=frozenset({'Corporate'}), confidence=0.7095890410958904, lift=1.0)]),\n",
              " RelationRecord(items=frozenset({'Loss'}), support=0.5, ordered_statistics=[OrderedStatistic(items_base=frozenset(), items_add=frozenset({'Loss'}), confidence=0.5, lift=1.0)]),\n",
              " RelationRecord(items=frozenset({'Medium Sales'}), support=0.7534246575342466, ordered_statistics=[OrderedStatistic(items_base=frozenset(), items_add=frozenset({'Medium Sales'}), confidence=0.7534246575342466, lift=1.0)]),\n",
              " RelationRecord(items=frozenset({'Office Supplies'}), support=0.6123287671232877, ordered_statistics=[OrderedStatistic(items_base=frozenset(), items_add=frozenset({'Office Supplies'}), confidence=0.6123287671232877, lift=1.0)]),\n",
              " RelationRecord(items=frozenset({'Regular Air'}), support=0.7931506849315069, ordered_statistics=[OrderedStatistic(items_base=frozenset(), items_add=frozenset({'Regular Air'}), confidence=0.7931506849315069, lift=1.0)]),\n",
              " RelationRecord(items=frozenset({'Small Box'}), support=0.8301369863013699, ordered_statistics=[OrderedStatistic(items_base=frozenset(), items_add=frozenset({'Small Box'}), confidence=0.8301369863013699, lift=1.0)]),\n",
              " RelationRecord(items=frozenset({'Corporate', 'Medium Sales'}), support=0.5260273972602739, ordered_statistics=[OrderedStatistic(items_base=frozenset(), items_add=frozenset({'Corporate', 'Medium Sales'}), confidence=0.5260273972602739, lift=1.0)]),\n",
              " RelationRecord(items=frozenset({'Corporate', 'Regular Air'}), support=0.6246575342465753, ordered_statistics=[OrderedStatistic(items_base=frozenset(), items_add=frozenset({'Corporate', 'Regular Air'}), confidence=0.6246575342465753, lift=1.0), OrderedStatistic(items_base=frozenset({'Corporate'}), items_add=frozenset({'Regular Air'}), confidence=0.8803088803088803, lift=1.1098885710284674), OrderedStatistic(items_base=frozenset({'Regular Air'}), items_add=frozenset({'Corporate'}), confidence=0.7875647668393783, lift=1.1098885710284674)]),\n",
              " RelationRecord(items=frozenset({'Small Box', 'Corporate'}), support=0.5904109589041096, ordered_statistics=[OrderedStatistic(items_base=frozenset(), items_add=frozenset({'Small Box', 'Corporate'}), confidence=0.5904109589041096, lift=1.0), OrderedStatistic(items_base=frozenset({'Corporate'}), items_add=frozenset({'Small Box'}), confidence=0.832046332046332, lift=1.0023000369535022), OrderedStatistic(items_base=frozenset({'Small Box'}), items_add=frozenset({'Corporate'}), confidence=0.7112211221122111, lift=1.0023000369535022)]),\n",
              " RelationRecord(items=frozenset({'Office Supplies', 'Medium Sales'}), support=0.5301369863013699, ordered_statistics=[OrderedStatistic(items_base=frozenset(), items_add=frozenset({'Office Supplies', 'Medium Sales'}), confidence=0.5301369863013699, lift=1.0), OrderedStatistic(items_base=frozenset({'Medium Sales'}), items_add=frozenset({'Office Supplies'}), confidence=0.7036363636363636, lift=1.1491153142159853), OrderedStatistic(items_base=frozenset({'Office Supplies'}), items_add=frozenset({'Medium Sales'}), confidence=0.8657718120805369, lift=1.1491153142159853)]),\n",
              " RelationRecord(items=frozenset({'Regular Air', 'Medium Sales'}), support=0.6109589041095891, ordered_statistics=[OrderedStatistic(items_base=frozenset(), items_add=frozenset({'Regular Air', 'Medium Sales'}), confidence=0.6109589041095891, lift=1.0), OrderedStatistic(items_base=frozenset({'Medium Sales'}), items_add=frozenset({'Regular Air'}), confidence=0.8109090909090909, lift=1.0223897001099074), OrderedStatistic(items_base=frozenset({'Regular Air'}), items_add=frozenset({'Medium Sales'}), confidence=0.770293609671848, lift=1.0223897001099074)]),\n",
              " RelationRecord(items=frozenset({'Small Box', 'Medium Sales'}), support=0.6698630136986301, ordered_statistics=[OrderedStatistic(items_base=frozenset(), items_add=frozenset({'Small Box', 'Medium Sales'}), confidence=0.6698630136986301, lift=1.0), OrderedStatistic(items_base=frozenset({'Medium Sales'}), items_add=frozenset({'Small Box'}), confidence=0.889090909090909, lift=1.0710171017101708), OrderedStatistic(items_base=frozenset({'Small Box'}), items_add=frozenset({'Medium Sales'}), confidence=0.8069306930693069, lift=1.0710171017101708)]),\n",
              " RelationRecord(items=frozenset({'Small Box', 'Office Supplies'}), support=0.5643835616438356, ordered_statistics=[OrderedStatistic(items_base=frozenset(), items_add=frozenset({'Small Box', 'Office Supplies'}), confidence=0.5643835616438356, lift=1.0), OrderedStatistic(items_base=frozenset({'Office Supplies'}), items_add=frozenset({'Small Box'}), confidence=0.9217002237136466, lift=1.110298949358023), OrderedStatistic(items_base=frozenset({'Small Box'}), items_add=frozenset({'Office Supplies'}), confidence=0.6798679867986799, lift=1.110298949358023)]),\n",
              " RelationRecord(items=frozenset({'Small Box', 'Regular Air'}), support=0.6589041095890411, ordered_statistics=[OrderedStatistic(items_base=frozenset(), items_add=frozenset({'Small Box', 'Regular Air'}), confidence=0.6589041095890411, lift=1.0), OrderedStatistic(items_base=frozenset({'Regular Air'}), items_add=frozenset({'Small Box'}), confidence=0.8307426597582038, lift=1.0007296066394205), OrderedStatistic(items_base=frozenset({'Small Box'}), items_add=frozenset({'Regular Air'}), confidence=0.7937293729372937, lift=1.0007296066394205)])]"
            ]
          },
          "metadata": {},
          "execution_count": 21
        }
      ]
    }
  ]
}